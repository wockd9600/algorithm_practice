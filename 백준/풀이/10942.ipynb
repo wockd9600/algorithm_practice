{
 "cells": [
  {
   "cell_type": "code",
   "execution_count": 1,
   "id": "22908624",
   "metadata": {},
   "outputs": [
    {
     "name": "stdout",
     "output_type": "stream",
     "text": [
      "7\n",
      "1 2 1 3 1 2 1\n",
      "4\n",
      "1 3\n",
      "1\n",
      "2 5\n",
      "0\n",
      "3 3\n",
      "1\n",
      "5 7\n",
      "1\n"
     ]
    }
   ],
   "source": [
    "n = int(input())\n",
    "arr = list(map(int, input().split()))\n",
    "dp = [[0] * n for _ in range(n)]\n",
    "\n",
    "for gap in range(n):\n",
    "    for start in range(n - gap):\n",
    "        end = start + gap\n",
    "        \n",
    "        if start == end:\n",
    "            dp[start][end] = 1\n",
    "        elif arr[start] == arr[end]:\n",
    "            if start + 1 == end: dp[start][end] = 1\n",
    "            elif dp[start+1][end-1]: dp[start][end] = 1\n",
    "            \n",
    "\n",
    "for _ in range(int(input())):\n",
    "    a, b = map(int, input().split())\n",
    "    print(dp[a-1][b-1])"
   ]
  }
 ],
 "metadata": {
  "kernelspec": {
   "display_name": "Python 3 (ipykernel)",
   "language": "python",
   "name": "python3"
  },
  "language_info": {
   "codemirror_mode": {
    "name": "ipython",
    "version": 3
   },
   "file_extension": ".py",
   "mimetype": "text/x-python",
   "name": "python",
   "nbconvert_exporter": "python",
   "pygments_lexer": "ipython3",
   "version": "3.10.6"
  }
 },
 "nbformat": 4,
 "nbformat_minor": 5
}
