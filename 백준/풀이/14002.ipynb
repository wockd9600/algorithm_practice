{
 "cells": [
  {
   "cell_type": "code",
   "execution_count": 7,
   "id": "bf309527",
   "metadata": {},
   "outputs": [
    {
     "name": "stdout",
     "output_type": "stream",
     "text": [
      "6\n",
      "10 20 10 30 20 50\n",
      "4\n",
      "10 20 30 50\n"
     ]
    }
   ],
   "source": [
    "n = int(input())\n",
    "arr = list(map(int, input().split()))\n",
    "dp = [1] * n\n",
    "\n",
    "for i in range(1, n):\n",
    "    for j in range(i):\n",
    "        if arr[i] > arr[j] and dp[i] < dp[j] + 1:\n",
    "            dp[i] = dp[j] + 1\n",
    "\n",
    "l = max(dp)\n",
    "print(l)\n",
    "\n",
    "answer = []\n",
    "for i in range(n - 1, -1, -1):\n",
    "    if dp[i] == l:\n",
    "        answer.append(arr[i])\n",
    "        l -= 1\n",
    "    \n",
    "    if l == 0: break\n",
    "\n",
    "answer.reverse()\n",
    "print(*answer)\n",
    "    "
   ]
  }
 ],
 "metadata": {
  "kernelspec": {
   "display_name": "Python 3 (ipykernel)",
   "language": "python",
   "name": "python3"
  },
  "language_info": {
   "codemirror_mode": {
    "name": "ipython",
    "version": 3
   },
   "file_extension": ".py",
   "mimetype": "text/x-python",
   "name": "python",
   "nbconvert_exporter": "python",
   "pygments_lexer": "ipython3",
   "version": "3.10.6"
  }
 },
 "nbformat": 4,
 "nbformat_minor": 5
}
