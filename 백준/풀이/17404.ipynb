{
 "cells": [
  {
   "cell_type": "code",
   "execution_count": 5,
   "id": "2d5a756c",
   "metadata": {},
   "outputs": [
    {
     "name": "stdout",
     "output_type": "stream",
     "text": [
      "8\n",
      "71 39 44\n",
      "32 83 55\n",
      "51 37 63\n",
      "89 29 100\n",
      "83 58 11\n",
      "65 13 15\n",
      "47 25 29\n",
      "[[277, 234, 239], [307, 264, 269], [259, 216, 221]]\n",
      "60 66 19\n",
      "253\n"
     ]
    }
   ],
   "source": [
    "# 아래 풀이가 아닌 처음집 색을 미리 정해두고 찾는 방법의 코드가 훨씬 직관적이다.\n",
    "\n",
    "INF = 10000001\n",
    "\n",
    "n = int(input())\n",
    "dp = [[INF, INF, INF] for _ in range(3)]\n",
    "dp[0][0], dp[1][1], dp[2][2] = map(int, input().split())\n",
    "\n",
    "for _ in range(n-2):\n",
    "    a, b, c = map(int, input().split())\n",
    "    \n",
    "    for i in range(3):\n",
    "        dp[0][i], dp[1][i], dp[2][i] = min(dp[1][i], dp[2][i]) + a, min(dp[0][i], dp[2][i]) + b, min(dp[0][i], dp[1][i]) + c\n",
    "\n",
    "left = min(dp[1][1], dp[1][2], dp[2][1], dp[2][2])\n",
    "center = min(dp[0][0], dp[0][2], dp[2][0], dp[2][2])\n",
    "right = min(dp[0][0], dp[0][1], dp[1][0], dp[1][1])\n",
    "\n",
    "a, b, c = map(int, input().split())\n",
    "print(min(left + a, center + b, right + c))"
   ]
  },
  {
   "cell_type": "code",
   "execution_count": null,
   "id": "5f08a418",
   "metadata": {},
   "outputs": [],
   "source": []
  }
 ],
 "metadata": {
  "kernelspec": {
   "display_name": "Python 3 (ipykernel)",
   "language": "python",
   "name": "python3"
  },
  "language_info": {
   "codemirror_mode": {
    "name": "ipython",
    "version": 3
   },
   "file_extension": ".py",
   "mimetype": "text/x-python",
   "name": "python",
   "nbconvert_exporter": "python",
   "pygments_lexer": "ipython3",
   "version": "3.10.6"
  }
 },
 "nbformat": 4,
 "nbformat_minor": 5
}
