{
 "cells": [
  {
   "cell_type": "code",
   "execution_count": 52,
   "id": "fd66c224",
   "metadata": {},
   "outputs": [
    {
     "name": "stdout",
     "output_type": "stream",
     "text": [
      "1111111111\n",
      "89\n"
     ]
    }
   ],
   "source": [
    "code = [\"10\"] + list(input())\n",
    "dp = [0] * len(code)\n",
    "if code[1] != \"0\": dp[0], dp[1] = 1, 1\n",
    "\n",
    "for i in range(2, len(code)):\n",
    "    if code[i] != \"0\": dp[i] = dp[i-1]\n",
    "\n",
    "    if 10 <= int(code[i-1] + code[i]) <= 26:\n",
    "        dp[i] += dp[i-2]\n",
    "\n",
    "print(dp[-1] % 1000000)"
   ]
  }
 ],
 "metadata": {
  "kernelspec": {
   "display_name": "Python 3 (ipykernel)",
   "language": "python",
   "name": "python3"
  },
  "language_info": {
   "codemirror_mode": {
    "name": "ipython",
    "version": 3
   },
   "file_extension": ".py",
   "mimetype": "text/x-python",
   "name": "python",
   "nbconvert_exporter": "python",
   "pygments_lexer": "ipython3",
   "version": "3.10.6"
  }
 },
 "nbformat": 4,
 "nbformat_minor": 5
}
