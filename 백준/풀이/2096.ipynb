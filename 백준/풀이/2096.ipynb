{
 "cells": [
  {
   "cell_type": "code",
   "execution_count": 2,
   "id": "efb4a7c8",
   "metadata": {},
   "outputs": [
    {
     "name": "stdout",
     "output_type": "stream",
     "text": [
      "2\n",
      "1 2 3\n",
      "1 2 3\n",
      "6 2\n"
     ]
    }
   ],
   "source": [
    "n = int(input())\n",
    "max_score = [0] * 3\n",
    "min_score = [0] * 3\n",
    "\n",
    "for _ in range(n):\n",
    "    a, b, c = map(int, input().split())\n",
    "    \n",
    "    t = [max_score[0], max_score[1], max_score[2]]\n",
    "    \n",
    "    max_score[0] = max(t[0], t[1]) + a\n",
    "    max_score[1] = max(t[0], t[1], t[2]) + b\n",
    "    max_score[2] = max(t[1], t[2]) + c\n",
    "    \n",
    "    t = [min_score[0], min_score[1], min_score[2]]\n",
    "    \n",
    "    min_score[0] = min(t[0], t[1]) + a\n",
    "    min_score[1] = min(t[0], t[1], t[2]) + b\n",
    "    min_score[2] = min(t[1], t[2]) + c\n",
    "\n",
    "print(max(max_score), min(min_score))"
   ]
  }
 ],
 "metadata": {
  "kernelspec": {
   "display_name": "Python 3 (ipykernel)",
   "language": "python",
   "name": "python3"
  },
  "language_info": {
   "codemirror_mode": {
    "name": "ipython",
    "version": 3
   },
   "file_extension": ".py",
   "mimetype": "text/x-python",
   "name": "python",
   "nbconvert_exporter": "python",
   "pygments_lexer": "ipython3",
   "version": "3.10.6"
  }
 },
 "nbformat": 4,
 "nbformat_minor": 5
}
