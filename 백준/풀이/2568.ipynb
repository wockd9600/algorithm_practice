{
 "cells": [
  {
   "cell_type": "code",
   "execution_count": 7,
   "id": "eae232f3",
   "metadata": {},
   "outputs": [
    {
     "name": "stdout",
     "output_type": "stream",
     "text": [
      "8\n",
      "1 8\n",
      "3 9\n",
      "2 2\n",
      "4 1\n",
      "6 4\n",
      "10 10\n",
      "9 7\n",
      "7 6\n",
      "3\n",
      "1\n",
      "2\n",
      "3\n"
     ]
    }
   ],
   "source": [
    "import bisect, sys\n",
    "\n",
    "n = int(input())\n",
    "arr = [list(map(int, input().split())) for _ in range(n)]\n",
    "arr.sort(key = lambda x:x[0])\n",
    "\n",
    "dp = [0] * n\n",
    "mz = [arr[0][1]]\n",
    "\n",
    "for i in range(n):\n",
    "    num = arr[i][1]\n",
    "    \n",
    "    if mz[-1] < num:\n",
    "        mz.append(num)\n",
    "        dp[i] = len(mz) - 1\n",
    "    else:\n",
    "        dp[i] = bisect.bisect_left(mz, num)\n",
    "        mz[dp[i]] = num\n",
    "\n",
    "l = len(mz)\n",
    "print(n - l)\n",
    "\n",
    "for i in range(n - 1, -1, -1):\n",
    "    if dp[i] == l - 1:\n",
    "        dp[i] = 100001\n",
    "        l -= 1\n",
    "        \n",
    "for i in range(n):\n",
    "    if dp[i] != 100001:\n",
    "        print(arr[i][0])"
   ]
  },
  {
   "cell_type": "code",
   "execution_count": null,
   "id": "8c164d06",
   "metadata": {},
   "outputs": [],
   "source": []
  }
 ],
 "metadata": {
  "kernelspec": {
   "display_name": "Python 3 (ipykernel)",
   "language": "python",
   "name": "python3"
  },
  "language_info": {
   "codemirror_mode": {
    "name": "ipython",
    "version": 3
   },
   "file_extension": ".py",
   "mimetype": "text/x-python",
   "name": "python",
   "nbconvert_exporter": "python",
   "pygments_lexer": "ipython3",
   "version": "3.10.6"
  }
 },
 "nbformat": 4,
 "nbformat_minor": 5
}
