{
 "cells": [
  {
   "cell_type": "code",
   "execution_count": 2,
   "id": "66e12081",
   "metadata": {},
   "outputs": [
    {
     "name": "stdout",
     "output_type": "stream",
     "text": [
      "ab\n",
      "ca\n",
      "1\n"
     ]
    }
   ],
   "source": [
    "a = \" \" + input()\n",
    "b = \" \" + input()\n",
    "dp = [[0] * (len(b)) for _ in range(len(a))]\n",
    "answer = 0\n",
    "\n",
    "for i in range(1, len(a)):\n",
    "    for j in range(1, len(b)):\n",
    "        if a[i] == b[j]:\n",
    "            dp[i][j] = dp[i-1][j-1] + 1\n",
    "            answer = max(answer, dp[i][j])\n",
    "\n",
    "print(answer)"
   ]
  },
  {
   "cell_type": "code",
   "execution_count": null,
   "id": "d0b0f93c",
   "metadata": {},
   "outputs": [],
   "source": []
  }
 ],
 "metadata": {
  "kernelspec": {
   "display_name": "Python 3 (ipykernel)",
   "language": "python",
   "name": "python3"
  },
  "language_info": {
   "codemirror_mode": {
    "name": "ipython",
    "version": 3
   },
   "file_extension": ".py",
   "mimetype": "text/x-python",
   "name": "python",
   "nbconvert_exporter": "python",
   "pygments_lexer": "ipython3",
   "version": "3.10.6"
  }
 },
 "nbformat": 4,
 "nbformat_minor": 5
}
