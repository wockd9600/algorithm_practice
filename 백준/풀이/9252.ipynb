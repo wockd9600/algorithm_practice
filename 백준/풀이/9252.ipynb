{
 "cells": [
  {
   "cell_type": "code",
   "execution_count": 1,
   "id": "882ea469",
   "metadata": {},
   "outputs": [
    {
     "name": "stdout",
     "output_type": "stream",
     "text": [
      "ACAYKP\n",
      "CAPCAK\n",
      "4\n",
      "ACAK\n"
     ]
    }
   ],
   "source": [
    "a = [\"\"] + list(input().rstrip())\n",
    "b = [\"\"] + list(input().rstrip())\n",
    "\n",
    "dp = [[\"\"] * len(b) for _ in range(len(a))]\n",
    "\n",
    "for i in range(1, len(a)):\n",
    "    for j in range(1, len(b)):\n",
    "        if a[i] == b[j]:\n",
    "            dp[i][j] = dp[i-1][j-1] + a[i]\n",
    "        else:\n",
    "            if len(dp[i][j-1]) > len(dp[i-1][j]):\n",
    "                dp[i][j] = dp[i][j-1]\n",
    "            else:\n",
    "                dp[i][j] = dp[i-1][j]\n",
    "\n",
    "answer = dp[-1][-1]\n",
    "print(len(answer), answer, sep=\"\\n\")"
   ]
  },
  {
   "cell_type": "code",
   "execution_count": null,
   "id": "a212e725",
   "metadata": {
    "scrolled": true
   },
   "outputs": [],
   "source": []
  },
  {
   "cell_type": "code",
   "execution_count": null,
   "id": "b7a5107e",
   "metadata": {},
   "outputs": [],
   "source": []
  }
 ],
 "metadata": {
  "kernelspec": {
   "display_name": "Python 3 (ipykernel)",
   "language": "python",
   "name": "python3"
  },
  "language_info": {
   "codemirror_mode": {
    "name": "ipython",
    "version": 3
   },
   "file_extension": ".py",
   "mimetype": "text/x-python",
   "name": "python",
   "nbconvert_exporter": "python",
   "pygments_lexer": "ipython3",
   "version": "3.10.6"
  }
 },
 "nbformat": 4,
 "nbformat_minor": 5
}
